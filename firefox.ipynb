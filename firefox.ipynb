{
 "cells": [
  {
   "cell_type": "code",
   "execution_count": 37,
   "metadata": {},
   "outputs": [],
   "source": [
    "# selenium 4\n",
    "from selenium import webdriver\n",
    "from selenium.webdriver.chrome.service import Service as ChromeService\n",
    "from selenium.webdriver.common.by import By\n",
    "from webdriver_manager.chrome import ChromeDriverManager\n",
    "driver = webdriver.Chrome(service=ChromeService(ChromeDriverManager().install()))\n",
    "driver.get('https://g1.globo.com/')\n",
    "\n"
   ]
  },
  {
   "cell_type": "code",
   "execution_count": 91,
   "metadata": {},
   "outputs": [],
   "source": [
    "\n",
    "feed_chapeu = driver.find_elements(By.CLASS_NAME, 'feed-post-body-chapeu')\n",
    "feed_noticias = driver.find_elements(By.CLASS_NAME, 'feed-post-link')\n",
    "resumo = driver.find_elements(By.CLASS_NAME, 'feed-post-body-resumo')\n",
    "quando = driver.find_elements(By.CLASS_NAME, 'feed-post-datetime')\n",
    "redacao = driver.find_elements(By.CLASS_NAME, 'feed-post-metadata-section')"
   ]
  },
  {
   "cell_type": "code",
   "execution_count": 100,
   "metadata": {},
   "outputs": [],
   "source": [
    "json_data = []\n",
    "for i in range(len(feed_noticias)):\n",
    "  try:\n",
    "    hea = feed_chapeu[i].text\n",
    "  except:\n",
    "    hea ='Sem cabeçalho'  \n",
    "    new = feed_noticias[i].text\n",
    "  try:  \n",
    "    res = resumo[i].text\n",
    "  except:\n",
    "    res = 'Sem resumo'  \n",
    "    time = quando[i].text\n",
    "  try:  \n",
    "    red = redacao[i].text\n",
    "  except:\n",
    "    red = 'Sem redação'  \n",
    "  json_data.append({'Cabeçalho':hea, 'Noticia':new, 'Resumo':res, 'Quando':time, 'Redação':red}) \n",
    "    \n",
    " \n",
    " \n"
   ]
  },
  {
   "cell_type": "code",
   "execution_count": 101,
   "metadata": {},
   "outputs": [
    {
     "name": "stdout",
     "output_type": "stream",
     "text": [
      "[{'Cabeçalho': 'Sem cabeçalho', 'Noticia': 'Quem é quem na equipe de Lula para a transição de governo', 'Resumo': 'Elizabeth Regina terá mandato de 4 anos em conselho vinculado ao ministério.', 'Quando': 'Há 2 horas', 'Redação': 'Política'}, {'Cabeçalho': 'Sem cabeçalho', 'Noticia': 'Tebet e Tereza Campello vão coordenar auxílio e benefícios', 'Resumo': 'Nova apresentadora estreia no dia 21. Renata seguirá como âncora do Jornal da Globo.', 'Quando': 'Há 2 horas', 'Redação': 'Política'}, {'Cabeçalho': 'Sem cabeçalho', 'Noticia': 'Na reta final do mandato, Bolsonaro nomeia irmã de Guedes na Educação', 'Resumo': 'Mário Sarrubbo se reuniu com Alexandre de Moraes para discutir investigação sobre radicais.', 'Quando': 'Há 2 horas', 'Redação': 'Estúdio i'}, {'Cabeçalho': 'Sem cabeçalho', 'Noticia': 'PL anuncia oposição ao governo Lula e oferece cargo a Bolsonaro', 'Resumo': 'Plenário virtual analisa se condenados por júri popular podem recorrer em liberdade.', 'Quando': 'Há 2 horas', 'Redação': 'Política'}, {'Cabeçalho': 'Sem cabeçalho', 'Noticia': 'Renata Lo Prete deixa O Assunto, que será apresentado por Natuza Nery', 'Resumo': 'Empresário já estava na lista de mais procurados por agressão a modelo.', 'Quando': 'Há 2 horas', 'Redação': 'O Assunto'}, {'Cabeçalho': 'Sem cabeçalho', 'Noticia': 'SIGA: dia de eleição nos EUA entra na reta final e expõe país dividido', 'Resumo': \"'Wakanda para sempre' estreia na quinta e honra a morte de Chadwick Boseman.\", 'Quando': 'Há 2 horas', 'Redação': 'Mundo'}, {'Cabeçalho': 'Sem cabeçalho', 'Noticia': 'VÍDEO: entenda o que está em jogo na eleição parlamentar dos EUA', 'Resumo': 'Ex-vereador foi preso acusado de estupro. Ele nega acusações.', 'Quando': 'Há 2 horas', 'Redação': 'GloboNews Mais'}, {'Cabeçalho': 'Sem cabeçalho', 'Noticia': 'Como o Arizona virou o celeiro dos negacionistas eleitorais', 'Resumo': 'Sem resumo', 'Quando': '', 'Redação': 'Blog da Sandra Cohen'}, {'Cabeçalho': 'Sem cabeçalho', 'Noticia': 'FOTOS: Chuva de granizo deixa cidades ‘cobertas de gelo’ em MG', 'Resumo': 'Sem resumo', 'Quando': 'Há 6 horas', 'Redação': 'Sul de Minas'}, {'Cabeçalho': 'Sem cabeçalho', 'Noticia': 'Empresários financiam atos golpistas de bolsonaristas, diz procurador', 'Resumo': 'Sem resumo', 'Quando': 'Há 2 horas', 'Redação': 'Política'}, {'Cabeçalho': 'Sem cabeçalho', 'Noticia': 'Enem 2022: saiba como consultar o local da prova, que será no domingo', 'Resumo': 'Sem resumo', 'Quando': 'Há 1 hora', 'Redação': 'Enem 2022'}, {'Cabeçalho': 'Sem cabeçalho', 'Noticia': 'Mendonça adia julgamento no STF sobre prisão imediata após júri popular', 'Resumo': 'Sem resumo', 'Quando': '', 'Redação': 'Política'}, {'Cabeçalho': 'Sem cabeçalho', 'Noticia': \"Filho afetivo conta que Flordelis disse 'estou livre' após morte de Anderson\", 'Resumo': 'Sem resumo', 'Quando': 'Há 1 hora', 'Redação': 'Rio de Janeiro'}, {'Cabeçalho': 'Sem cabeçalho', 'Noticia': 'PF comunica Interpol sobre mais 9 crimes de Thiago Brennand', 'Resumo': 'Sem resumo', 'Quando': '', 'Redação': 'São Paulo'}, {'Cabeçalho': 'Sem cabeçalho', 'Noticia': \"Novo 'Pantera Negra' explora luto para superar limites do gênero\", 'Resumo': 'Sem resumo', 'Quando': 'Há 16 minutos', 'Redação': 'Cinema'}, {'Cabeçalho': 'Sem cabeçalho', 'Noticia': 'Conheça 12 jogos de tabuleiro para se divertir com amigos e familiares', 'Resumo': 'Sem resumo', 'Quando': '', 'Redação': 'Guia de Compras'}, {'Cabeçalho': 'Sem cabeçalho', 'Noticia': 'Feito de contêineres e inspirado em Lego: Copa terá 1º estádio desmontável', 'Resumo': 'Sem resumo', 'Quando': 'Há 24 minutos', 'Redação': 'Trabalho e Carreira'}, {'Cabeçalho': 'Sem cabeçalho', 'Noticia': 'Empresa é obrigada a dar folga quando o Brasil joga? Entenda', 'Resumo': 'Sem resumo', 'Quando': 'Há 6 horas', 'Redação': 'Rio de Janeiro'}, {'Cabeçalho': 'Sem cabeçalho', 'Noticia': 'Gabriel Monteiro será levado para presídio em Bangu, no Rio', 'Resumo': 'Sem resumo', 'Quando': '', 'Redação': 'São Paulo'}, {'Cabeçalho': 'Sem cabeçalho', 'Noticia': 'Governo de SP confirma 1ª morte por subvariante da ômicron', 'Resumo': 'Sem resumo', 'Quando': '', 'Redação': 'Pernambuco'}, {'Cabeçalho': 'Sem cabeçalho', 'Noticia': 'Maternidade referência no Recife registra surto de Covid em bebês', 'Resumo': 'Sem resumo', 'Quando': '', 'Redação': 'Tecnologia'}, {'Cabeçalho': 'Sem cabeçalho', 'Noticia': 'Musk perde US$ 100 bilhões em 1 ano, mas ainda é o mais rico do mundo', 'Resumo': 'Sem resumo', 'Quando': 'Há 2 horas', 'Redação': 'Economia'}, {'Cabeçalho': 'Sem cabeçalho', 'Noticia': 'Lucro do Bradesco diminui no 3º trimestre e atinge R$ 5,2 bilhões', 'Resumo': 'Sem resumo', 'Quando': 'Há 2 horas', 'Redação': 'Sem redação'}]\n"
     ]
    }
   ],
   "source": [
    "print(json_data)"
   ]
  }
 ],
 "metadata": {
  "kernelspec": {
   "display_name": "Python 3.10.6 64-bit",
   "language": "python",
   "name": "python3"
  },
  "language_info": {
   "codemirror_mode": {
    "name": "ipython",
    "version": 3
   },
   "file_extension": ".py",
   "mimetype": "text/x-python",
   "name": "python",
   "nbconvert_exporter": "python",
   "pygments_lexer": "ipython3",
   "version": "3.10.6"
  },
  "orig_nbformat": 4,
  "vscode": {
   "interpreter": {
    "hash": "916dbcbb3f70747c44a77c7bcd40155683ae19c65e1c03b4aa3499c5328201f1"
   }
  }
 },
 "nbformat": 4,
 "nbformat_minor": 2
}
